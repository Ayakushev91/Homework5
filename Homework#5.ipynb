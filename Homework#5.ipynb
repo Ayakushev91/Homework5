{
 "cells": [
  {
   "cell_type": "markdown",
   "metadata": {},
   "source": [
    "## Домашнее задание к лекции \"Функции\""
   ]
  },
  {
   "cell_type": "code",
   "execution_count": null,
   "metadata": {},
   "outputs": [
    {
     "name": "stdout",
     "output_type": "stream",
     "text": [
      "\n",
      "     Введите одну из команд: p, l, s, ad, ds. \n",
      "     Для выхода наберите exit. \n",
      "     Для вызов справки наберите help. \n",
      "     Ваша команда: l\n",
      "passport 2207 876234 Василий Гупкин\n",
      "invoice 11-2 Геннадий Покемонов\n",
      "insurance 10006 Аристарх Павлов\n"
     ]
    }
   ],
   "source": [
    "documents = [\n",
    " {'type': 'passport', 'number': '2207 876234', 'name': 'Василий Гупкин'},\n",
    " {'type': 'invoice', 'number': '11-2', 'name': 'Геннадий Покемонов'},\n",
    " {'type': 'insurance', 'number': '10006', 'name': 'Аристарх Павлов'}\n",
    "]\n",
    "directories = {\n",
    " '1': ['2207 876234', '11-2'],\n",
    " '2': ['10006'],\n",
    " '3': []\n",
    "}\n",
    "\n",
    "def people(numbers):\n",
    "    for doc_numbers in documents:\n",
    "        if doc_numbers[\"number\"] == numbers:\n",
    "            print('Владелец документа: ', doc_numbers[\"name\"])\n",
    "            break\n",
    "    else:\n",
    "        print('Такого номера документа нет в базе.')\n",
    "\n",
    "def people_list():\n",
    "    for persons in documents:\n",
    "        print(persons['type'], ''+persons['number']+'', ''+persons['name']+'')\n",
    "\n",
    "def shelf(numbers):\n",
    "    break_marker = False\n",
    "    for shelf_directories in directories.items():\n",
    "        for doc_numbers in shelf_directories[1]:\n",
    "            if doc_numbers == numbers:\n",
    "                print('Документ хранится на полке', shelf_directories[0])\n",
    "                break_marker = True\n",
    "                break\n",
    "        if break_marker == True:\n",
    "            break\n",
    "    else:\n",
    "        print('Документ не найден в базе.')\n",
    "def add_command(params_type, number, name, directories_number):\n",
    "    if int(directories_number) == 1 or int(directories_number) == 2 or int(directories_number) == 3:\n",
    "        documents.append({\"type\": params_type, \"number\": number, \"name\": name})\n",
    "        directories[directories_number].append(number)\n",
    "        print('Документ добавлен.')\n",
    "    else:\n",
    "        print('Введенной полки не существует. Запись не осуществлена.')\n",
    "        \n",
    "def delete(numbers):\n",
    "    for shelf_directories, docon_shelf in directories.items():\n",
    "        if numbers in shelf_directories and len(docon_shelf) == 0:\n",
    "            del(directories[numbers])\n",
    "            print('Полка удалена. Текущий перечень полок:', ', ' .join(directories))\n",
    "            break\n",
    "        elif numbers in shelf_directories and len(docon_shelf) != 0:\n",
    "            print('На полке есть документы, удалите их перед удалением полки. Текущий перечень полок: ', ', ' .join(directories))\n",
    "            break\n",
    "    else:\n",
    "        print('Такой полки не существует. Текущий перечень полок:', ', ' .join(directories))\n",
    "    \n",
    "        \n",
    "while True:\n",
    "    command = input('\\n \\\n",
    "    Введите одну из команд: p, l, s, ad, ds. \\n \\\n",
    "    Для выхода наберите exit. \\n \\\n",
    "    Для вызов справки наберите help. \\n \\\n",
    "    Ваша команда: ')\n",
    "    if command == 'p':\n",
    "        people(input('\\nВведите номер документа:'))\n",
    "    elif command == 'l':\n",
    "        people_list()\n",
    "    elif command == 's':\n",
    "        shelf(input('\\nВведите номер документа:'))\n",
    "    elif command == 'ad':\n",
    "        add_command(input('\\nВведите тип документа:'), input('Введите номер документа:'), input('Введите имя:'), input('Введите номер полки :'))\n",
    "    elif command == 'ds':\n",
    "        delete(input('\\nВведите номер полки:'))\n",
    "    elif command == 'exit':\n",
    "        break\n",
    "    elif command == 'help':\n",
    "        print('\\n \\\n",
    "    p – people – узнать владельца документа по его номеру;\\n \\\n",
    "    l – list – полная информацию по всем документам;\\n \\\n",
    "    s – shelf – по номеру документа можно узнать на какой полке он хранится;\\n \\\n",
    "    ad – add – добавить новый документ в каталог и в перечень полок;\\n \\\n",
    "    ds - delete - удалить пустую полку.')\n",
    "    else:\n",
    "        print('Некорректная команда.')"
   ]
  }
 ],
 "metadata": {
  "kernelspec": {
   "display_name": "Python 3",
   "language": "python",
   "name": "python3"
  },
  "language_info": {
   "codemirror_mode": {
    "name": "ipython",
    "version": 3
   },
   "file_extension": ".py",
   "mimetype": "text/x-python",
   "name": "python",
   "nbconvert_exporter": "python",
   "pygments_lexer": "ipython3",
   "version": "3.8.5"
  }
 },
 "nbformat": 4,
 "nbformat_minor": 4
}

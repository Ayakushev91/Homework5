{
 "cells": [
  {
   "cell_type": "markdown",
   "metadata": {},
   "source": [
    "### Домашнее задание к лекции \"Функции\""
   ]
  },
  {
   "cell_type": "markdown",
   "metadata": {},
   "source": [
    "## Задание 1"
   ]
  },
  {
   "cell_type": "code",
   "execution_count": 59,
   "metadata": {},
   "outputs": [
    {
     "ename": "SyntaxError",
     "evalue": "invalid syntax (<ipython-input-59-af09cf576cb8>, line 52)",
     "output_type": "error",
     "traceback": [
      "\u001b[1;36m  File \u001b[1;32m\"<ipython-input-59-af09cf576cb8>\"\u001b[1;36m, line \u001b[1;32m52\u001b[0m\n\u001b[1;33m    break\u001b[0m\n\u001b[1;37m    ^\u001b[0m\n\u001b[1;31mSyntaxError\u001b[0m\u001b[1;31m:\u001b[0m invalid syntax\n"
     ]
    }
   ],
   "source": [
    "documents = [\n",
    " {'type': 'passport', 'number': '2207 876234', 'name': 'Василий Гупкин'},\n",
    " {'type': 'invoice', 'number': '11-2', 'name': 'Геннадий Покемонов'},\n",
    " {'type': 'insurance', 'number': '10006', 'name': 'Аристарх Павлов'}\n",
    "]\n",
    "directories = {\n",
    " '1': ['2207 876234', '11-2'],\n",
    " '2': ['10006'],\n",
    " '3': []\n",
    "}\n",
    "\n",
    "def people(numbers):\n",
    "    for doc_numbers in documents:\n",
    "        if doc_numbers[\"number\"] == numbers:\n",
    "            print(doc_numbers[\"name\"])\n",
    "            break\n",
    "    else:\n",
    "        print('Такого номера документа нет в базе.')\n",
    "\n",
    "def people_list():\n",
    "    for persons in documents:\n",
    "        print(persons['type'], '\"'+persons['number']+'\"', '\"'+persons['name']+'\"')\n",
    "\n",
    "def shelf(numbers):\n",
    "    break_marker = False\n",
    "    for shelf_directories in directories.items():\n",
    "        for doc_numbers in shelf_directories[1]:\n",
    "            if doc_numbers == numbers:\n",
    "                print('Документ хранится на полке', shelf_directories[0])\n",
    "                break_marker = True\n",
    "                break\n",
    "        if break_marker == True:\n",
    "            break\n",
    "    else:\n",
    "        print('Документ не найден в базе.')\n",
    "def add_command(params_type, number, name, directories_number):\n",
    "    if int(directories_number) == 1 or int(directories_number) == 2 or int(directories_number) == 3:\n",
    "        documents.append({\"type\": params_type, \"number\": number, \"name\": name})\n",
    "        directories[directories_number].append(number)\n",
    "    else:\n",
    "        print('Введенной полки не существует. Запись не осуществлена.')\n",
    "        \n",
    "def delete(numbers):\n",
    "    for shelf_directories in directories.items():\n",
    "        for doc_numbers in shelf_directories[1]:\n",
    "            if shelf_directories[0] == numbers and len(shelf_directories[1]) == 0:\n",
    "                del directories[numbers]\n",
    "                print('Полка удалена. Текущий перечень полок:', directories.keys())\n",
    "                break\n",
    "        if shelf_directories[0] == numbers and len(shelf_directories[1]) > 0:\n",
    "            print('На полке есть документы, удалите их перед удалением полки. Текущий перечень полок: ', directories.keys(), len(shelf_directories[1])\n",
    "            break\n",
    "    else:\n",
    "        print('Такой полки не существует. Текущий перечень полок:', directories.keys())\n",
    "    \n",
    "        \n",
    "while True:\n",
    "    command = input('\\n \\\n",
    "    Введите одну из команд: p, l, s, ad, ds. \\n \\\n",
    "    Для выхода наберите exit. \\n \\\n",
    "    Для вызов справки наберите help. \\n \\\n",
    "    Ваша команда: ')\n",
    "    if command == 'p':\n",
    "        people(input('\\nВведите номер документа:'))\n",
    "    elif command == 'l':\n",
    "        people_list()\n",
    "    elif command == 's':\n",
    "        shelf(input('\\nВведите номер документа:'))\n",
    "    elif command == 'ad':\n",
    "        add_command(input('\\nВведите тип документа:'), input('Введите номер документа:'), input('Введите имя:'), input('Введите номер полки (1, 2, 3):'))\n",
    "    elif command == 'ds':\n",
    "        delete(input('\\nВведите номер полки:'))\n",
    "    elif command == 'exit':\n",
    "        break\n",
    "    elif command == 'help':\n",
    "        print('\\n \\\n",
    "    p – people – узнать владельца документа по его номеру;\\n \\\n",
    "    l – list – полная информацию по всем документам;\\n \\\n",
    "    s – shelf – по номеру документа можно узнать на какой полке он хранится;\\n \\\n",
    "    ad – add – добавить новый документ в каталог и в перечень полок;\\n \\\n",
    "    ds - delete - удалить пустую полку.')\n",
    "    else:\n",
    "        print('Некорректная команда.')"
   ]
  },
  {
   "cell_type": "code",
   "execution_count": 51,
   "metadata": {},
   "outputs": [
    {
     "ename": "TypeError",
     "evalue": "get expected at least 1 argument, got 0",
     "output_type": "error",
     "traceback": [
      "\u001b[1;31m---------------------------------------------------------------------------\u001b[0m",
      "\u001b[1;31mTypeError\u001b[0m                                 Traceback (most recent call last)",
      "\u001b[1;32m<ipython-input-51-e94be3f0f7d9>\u001b[0m in \u001b[0;36m<module>\u001b[1;34m\u001b[0m\n\u001b[0;32m      5\u001b[0m }\n\u001b[0;32m      6\u001b[0m \u001b[1;33m\u001b[0m\u001b[0m\n\u001b[1;32m----> 7\u001b[1;33m \u001b[0mprint\u001b[0m\u001b[1;33m(\u001b[0m\u001b[0mlen\u001b[0m\u001b[1;33m(\u001b[0m\u001b[0mdirectories\u001b[0m\u001b[1;33m.\u001b[0m\u001b[0mget\u001b[0m\u001b[1;33m(\u001b[0m\u001b[1;33m)\u001b[0m\u001b[1;33m)\u001b[0m\u001b[1;33m)\u001b[0m\u001b[1;33m\u001b[0m\u001b[1;33m\u001b[0m\u001b[0m\n\u001b[0m",
      "\u001b[1;31mTypeError\u001b[0m: get expected at least 1 argument, got 0"
     ]
    }
   ],
   "source": [
    "directories = {\n",
    " '1': ['2207 876234', '11-2'],\n",
    " '2': ['10006'],\n",
    " '3': []\n",
    "}\n",
    "\n",
    "print(len(directories.get()))"
   ]
  },
  {
   "cell_type": "code",
   "execution_count": null,
   "metadata": {},
   "outputs": [],
   "source": []
  }
 ],
 "metadata": {
  "kernelspec": {
   "display_name": "Python 3",
   "language": "python",
   "name": "python3"
  },
  "language_info": {
   "codemirror_mode": {
    "name": "ipython",
    "version": 3
   },
   "file_extension": ".py",
   "mimetype": "text/x-python",
   "name": "python",
   "nbconvert_exporter": "python",
   "pygments_lexer": "ipython3",
   "version": "3.8.5"
  }
 },
 "nbformat": 4,
 "nbformat_minor": 4
}
